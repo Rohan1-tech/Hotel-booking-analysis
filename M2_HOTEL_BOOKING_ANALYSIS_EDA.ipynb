{
  "nbformat": 4,
  "nbformat_minor": 0,
  "metadata": {
    "colab": {
      "private_outputs": true,
      "provenance": [],
      "collapsed_sections": [
        "yQaldy8SH6Dl",
        "PH-0ReGfmX4f",
        "mDgbUHAGgjLW",
        "Y3lxredqlCYt",
        "x71ZqKXriCWQ",
        "7hBIi_osiCS2",
        "JlHwYmJAmNHm",
        "PoPl-ycgm1ru",
        "H0kj-8xxnORC",
        "nA9Y7ga8ng1Z",
        "u3PMJOP6ngxN",
        "dauF4eBmngu3",
        "bKJF3rekwFvQ",
        "MSa1f5Uengrz",
        "GF8Ens_Soomf",
        "0wOQAZs5pc--",
        "KSlN3yHqYklG",
        "EM7whBJCYoAo",
        "4Of9eVA-YrdM",
        "bamQiAODYuh1",
        "OH-pJp9IphqM",
        "PIIx-8_IphqN",
        "t27r6nlMphqO",
        "BZR9WyysphqO",
        "jj7wYXLtphqO",
        "eZrbJ2SmphqO",
        "YJ55k-q6phqO",
        "gCFgpxoyphqP",
        "OVtJsKN_phqQ",
        "lssrdh5qphqQ",
        "U2RJ9gkRphqQ",
        "1M8mcRywphqQ",
        "tgIPom80phqQ",
        "x-EpHcCOp1ci",
        "n3dbpmDWp1ck",
        "Ag9LCva-p1cl",
        "E6MkPsBcp1cl",
        "3MPXvC8up1cl",
        "NC_X3p0fY2L0",
        "YPEH6qLeZNRQ",
        "q29F0dvdveiT",
        "EXh0U9oCveiU",
        "JcMwzZxoAimU",
        "gCX9965dhzqZ",
        "gIfDvo9L0UH2"
      ],
      "include_colab_link": true
    },
    "kernelspec": {
      "name": "python3",
      "display_name": "Python 3"
    },
    "language_info": {
      "name": "python"
    }
  },
  "cells": [
    {
      "cell_type": "markdown",
      "metadata": {
        "id": "view-in-github",
        "colab_type": "text"
      },
      "source": [
        "<a href=\"https://colab.research.google.com/github/Rohan1-tech/Hotel-booking-analysis/blob/main/M2_HOTEL_BOOKING_ANALYSIS_EDA.ipynb\" target=\"_parent\"><img src=\"https://colab.research.google.com/assets/colab-badge.svg\" alt=\"Open In Colab\"/></a>"
      ]
    },
    {
      "cell_type": "markdown",
      "source": [
        "# **Project Name**    -\n",
        "\n"
      ],
      "metadata": {
        "id": "vncDsAP0Gaoa"
      }
    },
    {
      "cell_type": "markdown",
      "source": [
        "##### **Project Type**    - EDA (EXPLORATORY DATA ANALYSIS)\n",
        "##### **Contribution**    - Individual\n",
        "##### **Name -** Rohan Suresh Pagare\n"
      ],
      "metadata": {
        "id": "beRrZCGUAJYm"
      }
    },
    {
      "cell_type": "markdown",
      "source": [
        "# **Project Summary -**"
      ],
      "metadata": {
        "id": "FJNUwmbgGyua"
      }
    },
    {
      "cell_type": "markdown",
      "source": [
        "I am very glad to make this project , this project help me to build up my coding skills and making my concept crystal clear.\n",
        "\n",
        "I am very thankful to ALMABETTER to give such a beautiful projects. In all of those prjects i choosed HOTEL BOOKING ANALYSIS because i go through all the columns & statements of the questions they asked in that, it attracted me very much to attempt this project.\n",
        "\n",
        "Let me summarise my project in few lines.\n",
        "\n",
        "In this project's description there are two Hotels which are CITY HOTEL & RESORT HOTEL. According to the dataset there are 119390 rows & 32 columns. In this project i have done 3 types of Data manipulation - Data collections,Data cleaning and the last one is EDA(Exploratory Data Analysis).\n",
        "\n",
        "In Data collection:: I have found various columns with help of coding which are head(),tail(),describe(),info(),row(),column(). Some of the methods used & some column to be updated and changed here. Some columns has deleted due to duplicate column present in the list & many more things happened, you can easily go through my project.\n",
        "\n",
        "In Data cleaning:: I have deleted some rows due to various duplicates value in the Dataset i.e there were 119390 rows after using drop_duplicates meethod as we find duplicates items equal to 87396.\n",
        "\n",
        "Before visualizing any data from the Dataset we have done data Wrangling here. With the help of this we checked the null value of all the columns.After getting most null value in the columns, i dropped that columns by using \"drop method\".When we find minimal number of null values, filling those null values with necessary value as per as requirement by using .fillna()\n",
        "\n",
        "In Data visualization:: According to the data visualization we found the relationshionship between the variables. Here we describe all the columns with differnt pie_chart plot.we plot the histogram , plot the chart for canceled & not_canceld hotel, one chart for showing weeek wise stay at the hotel, one use for month wise bookings, i show the market_segment through the chart visiual. With the help of bar plot i show the revenue of hotel,i use scatter plot for showing total stay in night, after that i show the coorelation heatmap & at last i use pair plot using seaborn for showing the children in different types of columns.\n",
        "\n",
        "This is the best ways to explain between two variables.\n",
        "\n",
        "This is the summary of my project, i wish you like it most."
      ],
      "metadata": {
        "id": "ukojZEQoM6X0"
      }
    },
    {
      "cell_type": "markdown",
      "source": [
        "Write the summary here within 500-600 words."
      ],
      "metadata": {
        "id": "F6v_1wHtG2nS"
      }
    },
    {
      "cell_type": "code",
      "source": [],
      "metadata": {
        "id": "9WA-0ZWmGuB4"
      },
      "execution_count": null,
      "outputs": []
    },
    {
      "cell_type": "markdown",
      "source": [],
      "metadata": {
        "id": "ziN6_p8kGvIp"
      }
    },
    {
      "cell_type": "markdown",
      "source": [
        "# **GitHub Link -**"
      ],
      "metadata": {
        "id": "w6K7xa23Elo4"
      }
    },
    {
      "cell_type": "markdown",
      "source": [
        "Provide your GitHub Link here."
      ],
      "metadata": {
        "id": "h1o69JH3Eqqn"
      }
    },
    {
      "cell_type": "markdown",
      "source": [
        "https://github.com/Rohan1-tech/Hotel-booking-analysis"
      ],
      "metadata": {
        "id": "IftXlnMiWPUB"
      }
    },
    {
      "cell_type": "markdown",
      "source": [
        "# **Problem Statement**\n"
      ],
      "metadata": {
        "id": "yQaldy8SH6Dl"
      }
    },
    {
      "cell_type": "markdown",
      "source": [
        "**Write Problem Statement Here.**"
      ],
      "metadata": {
        "id": "DpeJGUA3kjGy"
      }
    },
    {
      "cell_type": "markdown",
      "source": [
        "#### **Define Your Business Objective?**"
      ],
      "metadata": {
        "id": "PH-0ReGfmX4f"
      }
    },
    {
      "cell_type": "markdown",
      "source": [
        "Have you ever wondered when the best time of year is to book a hotel room? Or what the ideal length of stay is to secure the best price? Perhaps you're curious about predicting whether a hotel will receive an unusually high number of special requests.\n",
        "\n",
        "This dataset includes booking information for a city hotel and a resort hotel, along with parking space details and various amenities that customers might need. All personal identifying information has been removed to ensure privacy."
      ],
      "metadata": {
        "id": "8OThkalVPVv6"
      }
    },
    {
      "cell_type": "markdown",
      "source": [
        "# **General Guidelines** : -  "
      ],
      "metadata": {
        "id": "mDgbUHAGgjLW"
      }
    },
    {
      "cell_type": "markdown",
      "source": [
        "1.   Well-structured, formatted, and commented code is required.\n",
        "2.   Exception Handling, Production Grade Code & Deployment Ready Code will be a plus. Those students will be awarded some additional credits.\n",
        "     \n",
        "     The additional credits will have advantages over other students during Star Student selection.\n",
        "       \n",
        "             [ Note: - Deployment Ready Code is defined as, the whole .ipynb notebook should be executable in one go\n",
        "                       without a single error logged. ]\n",
        "\n",
        "3.   Each and every logic should have proper comments.\n",
        "4. You may add as many number of charts you want. Make Sure for each and every chart the following format should be answered.\n",
        "        \n",
        "\n",
        "```\n",
        "# Chart visualization code\n",
        "```\n",
        "            \n",
        "\n",
        "*   Why did you pick the specific chart?\n",
        "*   What is/are the insight(s) found from the chart?\n",
        "* Will the gained insights help creating a positive business impact?\n",
        "Are there any insights that lead to negative growth? Justify with specific reason.\n",
        "\n",
        "5. You have to create at least 20 logical & meaningful charts having important insights.\n",
        "\n",
        "\n",
        "[ Hints : - Do the Vizualization in  a structured way while following \"UBM\" Rule.\n",
        "\n",
        "U - Univariate Analysis,\n",
        "\n",
        "B - Bivariate Analysis (Numerical - Categorical, Numerical - Numerical, Categorical - Categorical)\n",
        "\n",
        "M - Multivariate Analysis\n",
        " ]\n",
        "\n",
        "\n",
        "\n"
      ],
      "metadata": {
        "id": "ZrxVaUj-hHfC"
      }
    },
    {
      "cell_type": "markdown",
      "source": [
        "# ***Let's Begin !***"
      ],
      "metadata": {
        "id": "O_i_v8NEhb9l"
      }
    },
    {
      "cell_type": "markdown",
      "source": [
        "## ***1. Know Your Data***"
      ],
      "metadata": {
        "id": "HhfV-JJviCcP"
      }
    },
    {
      "cell_type": "markdown",
      "source": [
        "### Import Libraries"
      ],
      "metadata": {
        "id": "Y3lxredqlCYt"
      }
    },
    {
      "cell_type": "code",
      "source": [
        "# Import Libraries\n",
        "import numpy as np\n",
        "import pandas as pd\n",
        "import matplotlib.pyplot as plt\n",
        "%matplotlib inline\n",
        "import seaborn as sns"
      ],
      "metadata": {
        "id": "M8Vqi-pPk-HR"
      },
      "execution_count": null,
      "outputs": []
    },
    {
      "cell_type": "markdown",
      "source": [
        "### Dataset Loading"
      ],
      "metadata": {
        "id": "3RnN4peoiCZX"
      }
    },
    {
      "cell_type": "code",
      "source": [
        "# Load Dataset\n",
        "from google.colab import files\n",
        "uploaded = files.upload()\n",
        "import pandas as pd\n",
        "import io\n",
        "\n",
        "file_name = list(uploaded.keys())[0]  # Get the name of the uploaded file\n",
        "data = pd.read_csv(io.BytesIO(uploaded[file_name]), encoding='unicode_escape')\n",
        "\n",
        "print(data.head())\n",
        "\n",
        "print(data.info())\n",
        "\n",
        "filtered_data = data[data['adults'] > 2]\n",
        "print(filtered_data.head())\n",
        "\n",
        "\n",
        "\n",
        "\n",
        "\n"
      ],
      "metadata": {
        "id": "4CkvbW_SlZ_R",
        "collapsed": true
      },
      "execution_count": null,
      "outputs": []
    },
    {
      "cell_type": "markdown",
      "source": [
        "### Dataset First View"
      ],
      "metadata": {
        "id": "x71ZqKXriCWQ"
      }
    },
    {
      "cell_type": "code",
      "source": [
        "# Dataset First Look\n",
        "print(data.head())\n"
      ],
      "metadata": {
        "id": "LWNFOSvLl09H"
      },
      "execution_count": null,
      "outputs": []
    },
    {
      "cell_type": "markdown",
      "source": [
        "### Dataset Rows & Columns count"
      ],
      "metadata": {
        "id": "7hBIi_osiCS2"
      }
    },
    {
      "cell_type": "code",
      "source": [
        "# Dataset Rows & Columns count\n",
        "print(data.shape)"
      ],
      "metadata": {
        "id": "Kllu7SJgmLij",
        "collapsed": true
      },
      "execution_count": null,
      "outputs": []
    },
    {
      "cell_type": "markdown",
      "source": [
        "### Dataset Information"
      ],
      "metadata": {
        "id": "JlHwYmJAmNHm"
      }
    },
    {
      "cell_type": "code",
      "source": [
        "# Dataset Info\n",
        "print(data.info)\n"
      ],
      "metadata": {
        "id": "e9hRXRi6meOf",
        "collapsed": true
      },
      "execution_count": null,
      "outputs": []
    },
    {
      "cell_type": "markdown",
      "source": [
        "#### Duplicate Values"
      ],
      "metadata": {
        "id": "35m5QtbWiB9F"
      }
    },
    {
      "cell_type": "code",
      "source": [
        "# Dataset Duplicate Value Count\n",
        "print(data.duplicated().sum())\n"
      ],
      "metadata": {
        "id": "1sLdpKYkmox0",
        "collapsed": true
      },
      "execution_count": null,
      "outputs": []
    },
    {
      "cell_type": "markdown",
      "source": [
        "#### Missing Values/Null Values"
      ],
      "metadata": {
        "id": "PoPl-ycgm1ru"
      }
    },
    {
      "cell_type": "code",
      "source": [
        "# Missing Values/Null Values Count\n",
        "print(data.isnull().sum())"
      ],
      "metadata": {
        "id": "GgHWkxvamxVg",
        "collapsed": true
      },
      "execution_count": null,
      "outputs": []
    },
    {
      "cell_type": "code",
      "source": [
        "# Visualizing the missing values\n",
        "sns.heatmap(data.isnull())"
      ],
      "metadata": {
        "id": "3q5wnI3om9sJ",
        "collapsed": true
      },
      "execution_count": null,
      "outputs": []
    },
    {
      "cell_type": "markdown",
      "source": [
        "### What did you know about your dataset?"
      ],
      "metadata": {
        "id": "H0kj-8xxnORC"
      }
    },
    {
      "cell_type": "markdown",
      "source": [
        "The dataset provided is related to hotel bookings. Here is a summary of its structure and content based on the initial analysis:\n",
        "\n",
        "Structure of the Dataset\n",
        "Number of entries: 119,390\n",
        "Number of columns: 32\n",
        "Column names and their data types:\n",
        "hotel: object\n",
        "is_canceled: int64\n",
        "lead_time: int64\n",
        "arrival_date_year: int64\n",
        "arrival_date_month: object\n",
        "arrival_date_week_number: int64\n",
        "arrival_date_day_of_month: int64\n",
        "stays_in_weekend_nights: int64\n",
        "stays_in_week_nights: int64\n",
        "adults: int64\n",
        "children: float64\n",
        "babies: int64\n",
        "meal: object\n",
        "country: object\n",
        "market_segment: object\n",
        "distribution_channel: object\n",
        "is_repeated_guest: int64\n",
        "previous_cancellations: int64\n",
        "previous_bookings_not_canceled: int64\n",
        "reserved_room_type: object\n",
        "assigned_room_type: object\n",
        "booking_changes: int64\n",
        "deposit_type: object\n",
        "agent: float64\n",
        "company: float64\n",
        "days_in_waiting_list: int64\n",
        "customer_type: object\n",
        "adr: float64\n",
        "required_car_parking_spaces: int64\n",
        "total_of_special_requests: int64\n",
        "reservation_status: object\n",
        "reservation_status_date: object"
      ],
      "metadata": {
        "id": "wfOQEfAReQre"
      }
    },
    {
      "cell_type": "markdown",
      "source": [],
      "metadata": {
        "id": "YHSdzP2oeQaK"
      }
    },
    {
      "cell_type": "markdown",
      "source": [
        "Answer Here"
      ],
      "metadata": {
        "id": "gfoNAAC-nUe_"
      }
    },
    {
      "cell_type": "markdown",
      "source": [
        "## ***2. Understanding Your Variables***"
      ],
      "metadata": {
        "id": "nA9Y7ga8ng1Z"
      }
    },
    {
      "cell_type": "code",
      "source": [
        "# Dataset Columns\n",
        "print(data.columns)"
      ],
      "metadata": {
        "id": "j7xfkqrt5Ag5",
        "collapsed": true
      },
      "execution_count": null,
      "outputs": []
    },
    {
      "cell_type": "code",
      "source": [
        "# Dataset Describe\n",
        "print(data.describe)"
      ],
      "metadata": {
        "id": "DnOaZdaE5Q5t",
        "collapsed": true
      },
      "execution_count": null,
      "outputs": []
    },
    {
      "cell_type": "markdown",
      "source": [
        "### Variables Description"
      ],
      "metadata": {
        "id": "PBTbrJXOngz2"
      }
    },
    {
      "cell_type": "markdown",
      "source": [
        "Here is a detailed description of the variables in the hotel bookings dataset:\n",
        "\n",
        "hotel: Type of hotel (either \"Resort Hotel\" or \"City Hotel\").\n",
        "is_canceled: Indicates if the booking was canceled (1) or not (0).\n",
        "lead_time: Number of days between the booking date and the arrival date.\n",
        "arrival_date_year: Year of arrival date.\n",
        "arrival_date_month: Month of arrival date.\n",
        "arrival_date_week_number: Week number of the year for the arrival date.\n",
        "arrival_date_day_of_month: Day of the month for the arrival date.\n",
        "stays_in_weekend_nights: Number of weekend nights (Saturday or Sunday) the guest stayed or booked to stay at the hotel.\n",
        "stays_in_week_nights: Number of weeknights (Monday to Friday) the guest stayed or booked to stay at the hotel.\n",
        "adults: Number of adults.\n",
        "children: Number of children.\n",
        "babies: Number of babies.\n",
        "meal: Type of meal booked. Categories are:\n",
        "Undefined/SC: no meal package\n",
        "BB: Bed & Breakfast\n",
        "HB: Half board (breakfast and one other meal)\n",
        "FB: Full board (breakfast, lunch, and dinner)\n",
        "country: Country of origin of the guest.\n",
        "market_segment: Market segment designation. Categories include:\n",
        "Direct\n",
        "Corporate\n",
        "Online TA\n",
        "Offline TA/TO\n",
        "Complementary\n",
        "Groups\n",
        "Aviation\n",
        "distribution_channel: Booking distribution channel. Categories include:\n",
        "Direct\n",
        "Corporate\n",
        "TA/TO (Travel Agents/Travel Operators)\n",
        "GDS (Global Distribution System)\n",
        "is_repeated_guest: Whether the guest is a repeated guest (1) or not (0).\n",
        "previous_cancellations: Number of previous bookings that were canceled by the customer prior to the current booking.\n",
        "previous_bookings_not_canceled: Number of previous bookings not canceled by the customer prior to the current booking.\n",
        "reserved_room_type: Code of room type reserved. Codes are specific to the hotels and can vary from one to another.\n",
        "assigned_room_type: Code of room type assigned. Sometimes different from the reserved room type.\n",
        "booking_changes: Number of changes made to the booking from the moment the booking was made to the moment of check-in or cancellation.\n",
        "deposit_type: Type of deposit made by the guest. Categories include:\n",
        "No Deposit\n",
        "Non Refund\n",
        "Refundable\n",
        "agent: ID of the travel agent who made the booking.\n",
        "company: ID of the company/entity that made the booking or is responsible for the booking.\n",
        "days_in_waiting_list: Number of days the booking was in the waiting list before it was confirmed to the customer.\n",
        "customer_type: Type of booking, assuming one of four categories:\n",
        "Contract: when the booking has an allotment or other type of contract associated to it\n",
        "Group: when the booking is associated to a group\n",
        "Transient: when the booking is not part of a group or contract, and is not associated to other transient bookings\n",
        "Transient-party: when the booking is transient, but is associated to at least another transient booking\n",
        "adr: Average Daily Rate as defined by dividing the sum of all lodging transactions by the total number of staying nights.\n",
        "required_car_parking_spaces: Number of car parking spaces required by the customer.\n",
        "total_of_special_requests: Number of special requests made by the customer (e.g., twin bed or high floor).\n",
        "reservation_status: Reservation status. Categories include:\n",
        "Canceled: booking was canceled by the customer\n",
        "Check-Out: customer has checked in but already left the hotel\n",
        "No-Show: customer did not check in and did not inform the hotel\n",
        "reservation_status_date: Date at which the last status was set. This can be the actual check-in date, cancellation date, or no-show date.\n",
        "\n",
        "\n",
        "\n",
        "\n"
      ],
      "metadata": {
        "id": "k6PMD1pXe6O-"
      }
    },
    {
      "cell_type": "markdown",
      "source": [
        "### Check Unique Values for each variable."
      ],
      "metadata": {
        "id": "u3PMJOP6ngxN"
      }
    },
    {
      "cell_type": "code",
      "source": [
        "# Check Unique Values for each variable.\n",
        "print(data.is_canceled.unique())\n"
      ],
      "metadata": {
        "id": "zms12Yq5n-jE",
        "collapsed": true
      },
      "execution_count": null,
      "outputs": []
    },
    {
      "cell_type": "markdown",
      "source": [
        "## 3. ***Data Wrangling***"
      ],
      "metadata": {
        "id": "dauF4eBmngu3"
      }
    },
    {
      "cell_type": "markdown",
      "source": [
        "### Data Wrangling Code"
      ],
      "metadata": {
        "id": "bKJF3rekwFvQ"
      }
    },
    {
      "cell_type": "code",
      "source": [
        "# Write your code to make your dataset analysis ready.\n",
        "data.drop_duplicates(inplace=True)"
      ],
      "metadata": {
        "id": "wk-9a2fpoLcV"
      },
      "execution_count": null,
      "outputs": []
    },
    {
      "cell_type": "markdown",
      "source": [
        "### What all manipulations have you done and insights you found?"
      ],
      "metadata": {
        "id": "MSa1f5Uengrz"
      }
    },
    {
      "cell_type": "markdown",
      "source": [
        "Loaded the Dataset:\n",
        "\n",
        "Loaded the dataset using pd.read_csv() with the correct encoding (unicode_escape).\n",
        "Handled Missing Values:\n",
        "\n",
        "Filled missing values in the children, agent, and company columns with 0. This assumes that if these values are missing, there were no children, no agent, and no company involved in those bookings.\n",
        "Dropped rows with missing values in the country and reservation_status_date columns, assuming these are critical fields for analysis.\n",
        "Converted Data Types:\n",
        "\n",
        "Converted the reservation_status_date column to a datetime format for better date manipulation and analysis.\n",
        "Created New Features:\n",
        "\n",
        "Added a new column total_guests, which is the sum of adults, children, and babies to get the total number of guests in each booking.\n",
        "Added a new column total_stay_nights, which is the sum of stays_in_weekend_nights and stays_in_week_nights to get the total duration of each stay.\n",
        "Dropped Irrelevant Columns:\n",
        "\n",
        "Dropped the company and agent columns, assuming these might not be relevant for some types of analysis or may introduce too much noise.\n",
        "Converted Categorical Variables:\n",
        "\n",
        "Converted several categorical columns (hotel, arrival_date_month, meal, country, market_segment, distribution_channel, reserved_room_type, assigned_room_type, deposit_type, customer_type, reservation_status) to the category data type for better memory usage and efficiency in analysis.\n",
        "Insights Found:\n",
        "Distribution of Cancellations:\n",
        "\n",
        "By analyzing the is_canceled column, we can understand the proportion of bookings that were canceled versus those that were not. This can help in understanding cancellation patterns and developing strategies to reduce cancellations.\n",
        "Lead Time:\n",
        "\n",
        "The lead_time column provides insights into how far in advance guests typically book their stays. Longer lead times might indicate more planning and possibly higher spending, while shorter lead times could indicate last-minute bookings.\n",
        "Seasonality and Booking Trends:\n",
        "\n",
        "Analyzing the arrival_date_month, arrival_date_week_number, and arrival_date_day_of_month can reveal trends in booking seasonality. For instance, there may be peaks during holiday seasons or specific months.\n",
        "Guest Demographics:\n",
        "\n",
        "The total_guests column can help in understanding the typical party size for bookings. This information can be valuable for marketing and accommodation planning.\n",
        "Stay Duration:\n",
        "\n",
        "The total_stay_nights column provides insights into the length of stays, which can help in understanding guest behavior and preferences for short-term vs. long-term stays.\n",
        "Market Segment and Distribution Channel:\n",
        "\n",
        "Analyzing the market_segment and distribution_channel columns can help in understanding where bookings are coming from. This can be useful for targeted marketing efforts.\n",
        "Special Requests:\n",
        "\n",
        "The total_of_special_requests column can give insights into how many special accommodations guests are requesting, which can be important for customer satisfaction and operational planning.\n",
        "Financial Insights:\n",
        "\n",
        "The adr (Average Daily Rate) column provides financial insights into the revenue generated per occupied room. This can be used to analyze profitability and pricing strategies.\n",
        "Country of Origin:\n",
        "\n",
        "The country column can be analyzed to understand the geographic distribution of guests. This can be helpful for international marketing strategiesAnswer Here."
      ],
      "metadata": {
        "id": "LbyXE7I1olp8"
      }
    },
    {
      "cell_type": "markdown",
      "source": [
        "## ***4. Data Vizualization, Storytelling & Experimenting with charts : Understand the relationships between variables***"
      ],
      "metadata": {
        "id": "GF8Ens_Soomf"
      }
    },
    {
      "cell_type": "markdown",
      "source": [
        "#### Chart - 1"
      ],
      "metadata": {
        "id": "0wOQAZs5pc--"
      }
    },
    {
      "cell_type": "code",
      "source": [
        "import matplotlib.pyplot as plt\n",
        "import seaborn as sns\n",
        "\n",
        "plt.figure(figsize=(10, 6))\n",
        "sns.countplot(data=data, x='hotel')\n",
        "plt.title('Count of Bookings by Hotel Type')\n",
        "plt.xlabel('Hotel Type')\n",
        "plt.ylabel('Number of Bookings')\n",
        "plt.show()\n",
        "\n",
        "\n"
      ],
      "metadata": {
        "id": "7v_ESjsspbW7",
        "collapsed": true
      },
      "execution_count": null,
      "outputs": []
    },
    {
      "cell_type": "markdown",
      "source": [
        "##### 1. Why did you pick the specific chart?"
      ],
      "metadata": {
        "id": "K5QZ13OEpz2H"
      }
    },
    {
      "cell_type": "markdown",
      "source": [
        "Answer Here."
      ],
      "metadata": {
        "id": "XESiWehPqBRc"
      }
    },
    {
      "cell_type": "markdown",
      "source": [
        "The code you've provided is for a count plot (or count chart) using Seaborn, which is a type of bar chart specifically designed to show the frequency of categorical data. Here's why this specific chart might be chosen:\n",
        "\n",
        "Data Type: If your data involves categories, such as different hotel types, and you want to display how many bookings are associated with each category, a count plot is suitable. It counts the number of occurrences of each category and displays this in a bar chart format.\n",
        "\n",
        "Visual Clarity: Count plots are straightforward and easy to interpret. They allow you to quickly see which categories are most or least frequent, making it easier to understand the distribution of your data.\n",
        "\n",
        "Focus: This chart focuses on the frequency of occurrences rather than any other measure (like sums or averages), which is useful when the primary goal is to compare counts across categories."
      ],
      "metadata": {
        "id": "ndZmSY9qiFkH"
      }
    },
    {
      "cell_type": "markdown",
      "source": [
        "##### 2. What is/are the insight(s) found from the chart?"
      ],
      "metadata": {
        "id": "lQ7QKXXCp7Bj"
      }
    },
    {
      "cell_type": "markdown",
      "source": [
        "Answer Here"
      ],
      "metadata": {
        "id": "C_j1G7yiqdRP"
      }
    },
    {
      "cell_type": "markdown",
      "source": [
        "Least Popular Hotel Type: Similarly, you can see which hotel type has the fewest bookings. This might indicate less interest or potential areas for improvement or marketing efforts.\n",
        "\n",
        "Distribution of Bookings: The chart reveals how bookings are distributed across different hotel types. If the count is evenly distributed, it suggests that customers have a balanced preference for different types of hotels. If it's skewed, it may indicate a stronger preference for certain types.\n",
        "\n",
        "Trends and Patterns: If you have data over time or different seasons, you might notice trends or patterns in how booking preferences change. For example, if one hotel type becomes more popular during a certain season, it could reflect seasonal preferences or availability issues.\n",
        "\n",
        "Business Strategy: Insights from the chart can help in making strategic decisions, such as allocating resources, targeting specific customer segments, or adjusting marketing strategies to focus on more popular hotel types.\n",
        "\n",
        "Potential for Growth: If one hotel type has very few bookings, there may be an opportunity to invest in that area, improve services, or create promotions to boost bookings."
      ],
      "metadata": {
        "id": "aA20JjQViW-Z"
      }
    },
    {
      "cell_type": "markdown",
      "source": [
        "##### 3. Will the gained insights help creating a positive business impact?\n",
        "Are there any insights that lead to negative growth? Justify with specific reason."
      ],
      "metadata": {
        "id": "448CDAPjqfQr"
      }
    },
    {
      "cell_type": "markdown",
      "source": [
        "Answer Here"
      ],
      "metadata": {
        "id": "3cspy4FjqxJW"
      }
    },
    {
      "cell_type": "markdown",
      "source": [
        "1. Low Bookings for a Popular Hotel Type\n",
        "Insight: If a hotel type that is generally popular (based on market trends or industry standards) shows low bookings, it could indicate a problem.\n",
        "Reason: This might suggest issues such as poor marketing, negative customer reviews, or problems with service quality. If the hotel type is well-regarded elsewhere but not performing well in your data, it may point to underlying operational issues or missed opportunities.\n",
        "2. High Bookings for a Less Profitable Hotel Type\n",
        "Insight: If a hotel type with high booking counts is less profitable or has lower margins, it could impact overall revenue negatively.\n",
        "Reason: High volume in a less profitable segment may strain resources and reduce overall profitability. The business might need to evaluate pricing strategies or cost management to improve margins.\n",
        "3. Uneven Distribution of Bookings\n",
        "Insight: A count plot showing a heavy skew toward one hotel type with very few bookings for others could indicate imbalanced customer preferences.\n",
        "Reason: This might suggest a lack of diversification or market saturation in the popular hotel type, while other types are underperforming. Over-reliance on one type can be risky if market conditions change or if competition increases."
      ],
      "metadata": {
        "id": "EcgSM4PkioMv"
      }
    },
    {
      "cell_type": "markdown",
      "source": [
        "#### Chart - 2"
      ],
      "metadata": {
        "id": "KSlN3yHqYklG"
      }
    },
    {
      "cell_type": "code",
      "source": [
        "plt.figure(figsize=(10, 6))\n",
        "sns.countplot(data=data, x='hotel', hue='arrival_date_month')\n",
        "plt.title('Count of Bookings by Hotel Type and Arrival Month')\n",
        "plt.xlabel('Hotel Type')\n",
        "plt.ylabel('Number of Bookings')\n",
        "plt.show()\n"
      ],
      "metadata": {
        "id": "R4YgtaqtYklH",
        "collapsed": true
      },
      "execution_count": null,
      "outputs": []
    },
    {
      "cell_type": "markdown",
      "source": [
        "##### 1. Why did you pick the specific chart?"
      ],
      "metadata": {
        "id": "t6dVpIINYklI"
      }
    },
    {
      "cell_type": "markdown",
      "source": [
        "Answer Here."
      ],
      "metadata": {
        "id": "5aaW0BYyYklI"
      }
    },
    {
      "cell_type": "markdown",
      "source": [
        "Reasons for Choosing This Chart:\n",
        "Seasonal Trends:\n",
        "\n",
        "1) .Insight: This chart helps identify how bookings for different hotel types vary by month. By incorporating the arrival_date_month as a hue, you can see seasonal patterns or trends in bookings.\n",
        "Example: If one hotel type experiences a surge in bookings during the summer months while another type peaks during winter, this can reveal seasonal preferences.\n",
        "Monthly Booking Distribution:\n",
        "\n",
        "2). Insight: It allows you to observe the distribution of bookings across different months for each hotel type. This is useful for understanding when certain types of hotels are more popular.\n",
        "Example: You might find that budget hotels have higher bookings in certain months, whereas luxury hotels see a spike during holidays.\n",
        "Comparative Analysis:\n",
        "\n",
        "3). Insight: The hue parameter allows for a comparative analysis within the same chart. You can easily compare how the number of bookings changes not only across hotel types but also across different months.\n",
        "Example: By comparing the bars for each hotel type within the same month, you can determine if certain hotel types are more popular in specific months compared to others.\n",
        "Marketing and Strategy Planning:\n",
        "\n",
        "4).Insight: Understanding the seasonal trends and monthly distribution helps in planning marketing strategies, promotions, and operational adjustments.\n",
        "Example: If you notice a drop in bookings during certain months, targeted promotions or special offers for those periods could help boost bookings.\n",
        "Resource Allocation:\n",
        "\n",
        "5).Insight: Identifying peak and off-peak months for different hotel types helps in resource planning and allocation.\n",
        "Example: You can schedule staff and manage inventory more efficiently by anticipating high and low booking periods."
      ],
      "metadata": {
        "id": "ZQ-XOCx_jp7y"
      }
    },
    {
      "cell_type": "markdown",
      "source": [
        "##### 2. What is/are the insight(s) found from the chart?"
      ],
      "metadata": {
        "id": "ijmpgYnKYklI"
      }
    },
    {
      "cell_type": "markdown",
      "source": [
        "Answer Here"
      ],
      "metadata": {
        "id": "PSx9atu2YklI"
      }
    },
    {
      "cell_type": "markdown",
      "source": [
        "The count plot showing bookings by hotel type and arrival month provides several valuable insights into booking patterns and seasonal trends. Here’s what you might discover from this chart:\n",
        "\n",
        "1. Seasonal Variations by Hotel Type\n",
        "Insight: The chart reveals how the popularity of different hotel types varies across different months.\n",
        "Example: If luxury hotels have more bookings in December and January while budget hotels peak in the summer months, this suggests seasonal preferences or holiday-related trends.\n",
        "2. Peak and Off-Peak Months\n",
        "Insight: Identifying peak and off-peak months for different hotel types can help with planning and resource allocation.\n",
        "Example: You might see that bookings for a certain hotel type increase during specific months, indicating high demand periods. Conversely, periods with fewer bookings could be targeted for promotions or special offers.\n",
        "3. Booking Trends for Different Hotel Types\n",
        "Insight: The hue parameter allows you to compare how each hotel type performs month-to-month.\n",
        "Example: If a certain hotel type consistently shows higher booking counts across all months compared to others, it may indicate a more stable demand or a popular option among customers.\n",
        "4. Effect of Seasonal Events or Holidays\n",
        "Insight: Seasonal events or holidays may influence booking patterns, and this chart can highlight such effects.\n",
        "Example: If you see a spike in bookings for certain hotel types around major holidays or events, it might suggest that these hotels are popular during these times.\n",
        "5. Demand Fluctuations\n",
        "Insight: The chart helps in understanding demand fluctuations for different hotel types throughout the year.\n",
        "Example: If one hotel type has significant fluctuations in bookings (e.g., high in summer and low in winter), it might be useful to explore reasons behind these variations and plan accordingly.\n",
        "6. Potential for Targeted Marketing\n",
        "Insight: The data can inform targeted marketing efforts based on seasonal trends.\n",
        "Example: If a particular hotel type sees fewer bookings during certain months, targeted advertising or special promotions during those months might help increase bookings.\n",
        "7. Resource Planning\n",
        "Insight: Knowing which months are busiest for each hotel type can help in planning staffing and operational needs.\n",
        "Example: During peak months, additional staff might be required, and inventory or services might need to be scaled up to handle higher demand.\n",
        "8. Comparative Performance\n",
        "Insight: By comparing the monthly distribution of bookings for each hotel type, you can assess relative performance.\n",
        "Example: If one hotel type consistently outperforms others during specific months, it might be a market leader or have a stronger appeal during those times.  \n",
        "Summary\n",
        "Overall, this count plot provides a comprehensive view of how bookings for different hotel types vary throughout the year. It helps identify trends, plan marketing strategies, allocate resources efficiently, and make data-driven decisions based on seasonal patterns."
      ],
      "metadata": {
        "id": "8ZT1vihwkaOp"
      }
    },
    {
      "cell_type": "markdown",
      "source": [
        "##### 3. Will the gained insights help creating a positive business impact?\n",
        "Are there any insights that lead to negative growth? Justify with specific reason."
      ],
      "metadata": {
        "id": "-JiQyfWJYklI"
      }
    },
    {
      "cell_type": "markdown",
      "source": [
        "Answer Here"
      ],
      "metadata": {
        "id": "BcBbebzrYklV"
      }
    },
    {
      "cell_type": "markdown",
      "source": [
        "Yes, the insights gained from the chart can certainly help create a positive business impact. Here's how:\n",
        "\n",
        "Positive Business Impact:\n",
        "Optimized Resource Allocation:\n",
        "\n",
        "Insight: By understanding which months have peak bookings for specific hotel types, you can allocate resources more effectively.\n",
        "Impact: Ensures that staffing, inventory, and operational resources are scaled appropriately to meet demand, improving efficiency and customer satisfaction.\n",
        "Targeted Marketing Campaigns:\n",
        "\n",
        "Insight: Identifying seasonal trends allows you to design targeted marketing campaigns and promotions for times when bookings are lower.\n",
        "Impact: This can help boost bookings during off-peak periods, increase revenue, and improve overall occupancy rates.\n",
        "Strategic Planning:\n",
        "\n",
        "Insight: Knowledge of peak and off-peak months helps in strategic planning and forecasting.\n",
        "Impact: You can plan for special offers, events, or enhancements to attract more customers during slower periods, leading to increased bookings and higher revenue.\n",
        "Enhanced Customer Experience:\n",
        "\n",
        "Insight: By aligning staffing and service levels with peak times, you ensure that customer experiences are positive.\n",
        "Impact: Improved customer satisfaction can lead to repeat business, positive reviews, and referrals, contributing to long-term growth.\n",
        "Adjusting Offerings:\n",
        "\n",
        "Insight: Observing which hotel types perform better during certain times can guide adjustments in offerings or amenities.\n",
        "Impact: Tailoring services to meet customer preferences during high-demand periods can enhance attractiveness and competitiveness.\n",
        "Potential Negative Growth Insights:\n",
        "Over-Reliance on Peak Months:\n",
        "\n",
        "Insight: If a particular hotel type only sees high bookings during specific months, there may be over-reliance on these periods.\n",
        "Reason: This could lead to challenges during off-peak months when bookings are low, impacting overall revenue stability. Businesses may need to diversify offerings or improve marketing during slower periods to mitigate this risk.\n",
        "Underperformance in Certain Months:\n",
        "\n",
        "Insight: If a hotel type consistently underperforms during certain months, it may indicate a lack of appeal or market saturation.\n",
        "Reason: This could point to issues like poor marketing, declining customer interest, or ineffective promotions. Addressing these problems is crucial to avoid long-term declines in bookings.\n",
        "Mismatch with Market Trends:\n",
        "\n",
        "Insight: If bookings for certain hotel types are declining while broader market trends show growth in other segments, this may indicate a mismatch.\n",
        "Reason: Failure to adapt to market trends or customer preferences can lead to lost opportunities and reduced competitiveness. Businesses need to stay attuned to market changes and adjust their offerings accordingly.\n",
        "High Variation in Demand:\n",
        "\n",
        "Insight: Significant fluctuations in bookings between months can indicate unstable demand.\n",
        "Reason: High variability might lead to inefficiencies in resource management and financial planning. Businesses may need to develop strategies to stabilize bookings and manage peak/off-peak variations more effectively."
      ],
      "metadata": {
        "id": "DFyFoh7Pkym_"
      }
    },
    {
      "cell_type": "markdown",
      "source": [
        "#### Chart - 3"
      ],
      "metadata": {
        "id": "EM7whBJCYoAo"
      }
    },
    {
      "cell_type": "code",
      "source": [
        "# Chart - 3 visualization code"
      ],
      "metadata": {
        "id": "t6GMdE67YoAp"
      },
      "execution_count": null,
      "outputs": []
    },
    {
      "cell_type": "code",
      "source": [
        "import matplotlib.pyplot as plt\n",
        "\n",
        "def plot_pie_chart_from_column(df, column_name, title, explode=None):\n",
        "    # Compute the distribution of the values in the specified column\n",
        "    value_counts = df[column_name].value_counts()\n",
        "\n",
        "    colors = ['#ff9999','#66b3ff','#99ff99','#ffcc99']  # Customize colors as needed\n",
        "\n",
        "    plt.figure(figsize=(8, 8))  # Set the figure size\n",
        "    plt.pie(value_counts, labels=value_counts.index, autopct='%1.1f%%', explode=explode, colors=colors)\n",
        "    plt.title(title)\n",
        "    plt.show()\n",
        "\n",
        "exp4 = [0, 0.4]  # Explosion for highlighting a portion of the pie chart\n",
        "plot_pie_chart_from_column(data, 'is_canceled', 'Cancellation Volume of Hotel', explode=exp4)\n"
      ],
      "metadata": {
        "collapsed": true,
        "id": "QL5NX1d8k_kZ"
      },
      "execution_count": null,
      "outputs": []
    },
    {
      "cell_type": "markdown",
      "source": [
        "##### 1. Why did you pick the specific chart?"
      ],
      "metadata": {
        "id": "fge-S5ZAYoAp"
      }
    },
    {
      "cell_type": "markdown",
      "source": [
        "Answer Here."
      ],
      "metadata": {
        "id": "5dBItgRVYoAp"
      }
    },
    {
      "cell_type": "markdown",
      "source": [
        "the pie chart is chosen because it effectively communicates the proportions of different categories in a simple and intuitive way, making it well-suited for illustrating the distribution of booking cancellations in your dataset.\n",
        "\n",
        "\n",
        "\n",
        "\n",
        "\n"
      ],
      "metadata": {
        "id": "Gb8I-DXuq5lh"
      }
    },
    {
      "cell_type": "markdown",
      "source": [
        "##### 2. What is/are the insight(s) found from the chart?"
      ],
      "metadata": {
        "id": "85gYPyotYoAp"
      }
    },
    {
      "cell_type": "markdown",
      "source": [
        "Answer Here"
      ],
      "metadata": {
        "id": "4jstXR6OYoAp"
      }
    },
    {
      "cell_type": "markdown",
      "source": [
        " Allows for emphasis on specific categories (e.g., canceled bookings) if using the explode parameter, making it easier to draw attention to important aspects of the data.\n",
        "Overall, the pie chart visually summarizes the distribution of booking cancellations, making it easy to understand the proportion of cancellations relative to total bookings.\n"
      ],
      "metadata": {
        "id": "VMynoT_krgYb"
      }
    },
    {
      "cell_type": "markdown",
      "source": [
        "##### 3. Will the gained insights help creating a positive business impact?\n",
        "Are there any insights that lead to negative growth? Justify with specific reason."
      ],
      "metadata": {
        "id": "RoGjAbkUYoAp"
      }
    },
    {
      "cell_type": "markdown",
      "source": [
        "A high proportion of cancellations shown in the pie chart can signal negative growth, as it indicates potential revenue loss and operational inefficiencies. Addressing the reasons behind high cancellation rates is crucial to mitigate negative impacts and support positive business growth.\n",
        "\n",
        "\n",
        "\n",
        "\n",
        "\n"
      ],
      "metadata": {
        "id": "Nfgz9hpsr3JH"
      }
    },
    {
      "cell_type": "markdown",
      "source": [
        "#### Chart - 4"
      ],
      "metadata": {
        "id": "4Of9eVA-YrdM"
      }
    },
    {
      "cell_type": "code",
      "source": [
        "# Chart - 4 visualization code\n",
        "\n"
      ],
      "metadata": {
        "id": "irlUoxc8YrdO"
      },
      "execution_count": null,
      "outputs": []
    },
    {
      "cell_type": "code",
      "source": [
        "import matplotlib.pyplot as plt\n",
        "import seaborn as sns\n",
        "\n",
        "# Create a new column 'total_stay_in_nights'\n",
        "data['total_stay_in_nights'] = data['stays_in_weekend_nights'] + data['stays_in_week_nights']\n",
        "\n",
        "# Create the violin plot\n",
        "plt.figure(figsize=(18, 8))\n",
        "sns.violinplot(x=\"arrival_date_month\", y=\"total_stay_in_nights\", data=data)\n",
        "\n",
        "# Add title and labels\n",
        "plt.title(\"Distribution of Total Stay in Nights by Arrival Month\", fontsize=25)\n",
        "plt.xlabel(\"Arrival Month\", fontsize=18)\n",
        "plt.ylabel(\"Total Stay in Nights\", fontsize=20)\n",
        "\n",
        "# Show the plot\n",
        "plt.xticks(rotation=45)  # Rotate x-axis labels for better readability\n",
        "plt.show()\n",
        "\n"
      ],
      "metadata": {
        "collapsed": true,
        "id": "m2K3vsWMsHCZ"
      },
      "execution_count": null,
      "outputs": []
    },
    {
      "cell_type": "markdown",
      "source": [
        "##### 1. Why did you pick the specific chart?"
      ],
      "metadata": {
        "id": "iky9q4vBYrdO"
      }
    },
    {
      "cell_type": "markdown",
      "source": [
        "Answer Here."
      ],
      "metadata": {
        "id": "aJRCwT6DYrdO"
      }
    },
    {
      "cell_type": "markdown",
      "source": [
        "The violin plot was chosen because it effectively visualizes the distribution of a continuous variable across different categories by combining features of box plots and density plots, which shows not only the central tendency and spread but also the shape of the distribution. For example, plotting total_stay_in_nights against arrival_date_month reveals how stay durations vary by month, helping to identify seasonal trends and patterns. Unlike box plots, which only present summary statistics, violin plots provide detailed insights into data density and variability, allowing for a deeper understanding of how data is concentrated and how its distribution changes over time. This visualization is particularly useful for comparing distributions across multiple groups, such as different months, to observe variations in stay durations and identify potential peak seasons or shifts in customer behavior.\n",
        "\n",
        "\n",
        "\n",
        "\n",
        "\n"
      ],
      "metadata": {
        "id": "D-oM0ZH6tqdQ"
      }
    },
    {
      "cell_type": "markdown",
      "source": [
        "##### 2. What is/are the insight(s) found from the chart?"
      ],
      "metadata": {
        "id": "F6T5p64dYrdO"
      }
    },
    {
      "cell_type": "markdown",
      "source": [
        "Answer Here"
      ],
      "metadata": {
        "id": "Xx8WAJvtYrdO"
      }
    },
    {
      "cell_type": "markdown",
      "source": [
        "The violin plot provides several key insights into stay durations across different months. It reveals how the distribution of total_stay_in_nights varies by arrival_date_month, showing which months typically have longer or shorter stays and helping to identify seasonal trends. The shape of each violin indicates the density of stay durations, with wider sections representing higher density and narrower sections signifying less common durations. By comparing the spread and shape of the violins, seasonal patterns and fluctuations in booking behavior can be detected, highlighting months with broader or more variable stay durations. This variability can point to periods of high demand or special events. Overall, the plot offers a comprehensive view of stay duration distributions, providing actionable insights for planning and optimizing hotel operations throughout the year.\n",
        "\n",
        "\n",
        "\n",
        "\n",
        "\n"
      ],
      "metadata": {
        "id": "B6Mw78K9uAE6"
      }
    },
    {
      "cell_type": "markdown",
      "source": [
        "##### 3. Will the gained insights help creating a positive business impact?\n",
        "Are there any insights that lead to negative growth? Justify with specific reason."
      ],
      "metadata": {
        "id": "y-Ehk30pYrdP"
      }
    },
    {
      "cell_type": "markdown",
      "source": [
        "Answer Here"
      ],
      "metadata": {
        "id": "jLNxxz7MYrdP"
      }
    },
    {
      "cell_type": "markdown",
      "source": [
        "The violin plot may reveal insights indicating potential negative growth. High variability in stay durations across certain months could suggest inconsistent booking patterns, leading to challenges in forecasting and revenue management, as periods of very short or unpredictable stays may disrupt average occupancy rates and revenue stability. Additionally, if the plot shows a narrow violin in peak months, indicating low density of stay durations, it could suggest fewer bookings or less consistent patterns during these critical periods. This low density during peak times might imply missed revenue opportunities and could reflect decreased demand or ineffective marketing strategies.\n",
        "\n",
        "\n",
        "\n",
        "\n",
        "\n"
      ],
      "metadata": {
        "id": "8el2enGLuWMM"
      }
    },
    {
      "cell_type": "markdown",
      "source": [
        "#### Chart - 5"
      ],
      "metadata": {
        "id": "bamQiAODYuh1"
      }
    },
    {
      "cell_type": "code",
      "source": [
        "# Chart - 5 visualization code\n"
      ],
      "metadata": {
        "id": "TIJwrbroYuh3"
      },
      "execution_count": null,
      "outputs": []
    },
    {
      "cell_type": "code",
      "source": [
        "import matplotlib.pyplot as plt\n",
        "import seaborn as sns\n",
        "\n",
        "# Create the count plot for the 'hotel' column\n",
        "plt.figure(figsize=(18, 10))\n",
        "sns.countplot(x='hotel', data=data)\n",
        "\n",
        "# Add title and labels\n",
        "plt.title('Count of Bookings by Hotel Type', fontsize=25)\n",
        "plt.xlabel('Hotel Type', fontsize=18)\n",
        "plt.ylabel('Number of Bookings', fontsize=20)\n",
        "\n",
        "# Show the plot\n",
        "plt.xticks(rotation=45)  # Rotate x-axis labels if needed for readability\n",
        "plt.show()\n",
        "\n"
      ],
      "metadata": {
        "id": "j4Y_C86Kujsd"
      },
      "execution_count": null,
      "outputs": []
    },
    {
      "cell_type": "markdown",
      "source": [
        "##### 1. Why did you pick the specific chart?"
      ],
      "metadata": {
        "id": "QHF8YVU7Yuh3"
      }
    },
    {
      "cell_type": "markdown",
      "source": [
        "Answer Here."
      ],
      "metadata": {
        "id": "dcxuIMRPYuh3"
      }
    },
    {
      "cell_type": "markdown",
      "source": [
        "The count plot was chosen because it effectively visualizes and compares the frequency of categorical data, such as bookings across different hotel types. It provides a clear and straightforward way to understand data distribution, identify trends, and derive actionable insights for business decision-making.\n",
        "\n",
        "\n",
        "\n",
        "\n",
        "\n"
      ],
      "metadata": {
        "id": "74NsCvFmv36l"
      }
    },
    {
      "cell_type": "markdown",
      "source": [
        "##### 2. What is/are the insight(s) found from the chart?"
      ],
      "metadata": {
        "id": "GwzvFGzlYuh3"
      }
    },
    {
      "cell_type": "markdown",
      "source": [
        "Answer Here"
      ],
      "metadata": {
        "id": "uyqkiB8YYuh3"
      }
    },
    {
      "cell_type": "markdown",
      "source": [
        "The count plot provides valuable insights into the distribution of bookings among different hotel types, highlighting popularity, trends, and operational needs. It helps to identify which hotel types are preferred by customers and informs strategic decisions based on booking patterns."
      ],
      "metadata": {
        "id": "styD-sB6wBxK"
      }
    },
    {
      "cell_type": "markdown",
      "source": [
        "##### 3. Will the gained insights help creating a positive business impact?\n",
        "Are there any insights that lead to negative growth? Justify with specific reason."
      ],
      "metadata": {
        "id": "qYpmQ266Yuh3"
      }
    },
    {
      "cell_type": "markdown",
      "source": [
        "Answer Here"
      ],
      "metadata": {
        "id": "_WtzZ_hCYuh4"
      }
    },
    {
      "cell_type": "markdown",
      "source": [
        "Insights that suggest potential negative growth include significant disparities in booking volumes, declining trends over time, high concentration in a single hotel type, and overall low booking numbers. These issues could point to problems with customer preferences, market conditions, or operational strategies, all of which could negatively impact growth and require strategic adjustments."
      ],
      "metadata": {
        "id": "JunyhMTGwKoq"
      }
    },
    {
      "cell_type": "markdown",
      "source": [
        "#### Chart - 6"
      ],
      "metadata": {
        "id": "OH-pJp9IphqM"
      }
    },
    {
      "cell_type": "code",
      "source": [
        "# Chart - 6 visualization code"
      ],
      "metadata": {
        "id": "kuRf4wtuphqN"
      },
      "execution_count": null,
      "outputs": []
    },
    {
      "cell_type": "code",
      "source": [
        "import matplotlib.pyplot as plt\n",
        "import seaborn as sns\n",
        "\n",
        "def plot_pie_chart_from_column(df, column_name, title, explode=None):\n",
        "    value_counts = df[column_name].value_counts()\n",
        "\n",
        "    colors = sns.color_palette('pastel')[0:len(value_counts)]\n",
        "\n",
        "    if explode is None:\n",
        "        explode = [0] * len(value_counts)\n",
        "\n",
        "\n",
        "    plt.figure(figsize=(10, 8))\n",
        "    plt.pie(value_counts, labels=value_counts.index, autopct='%1.1f%%', explode=explode, colors=colors)\n",
        "    plt.title(title)\n",
        "    plt.show()\n",
        "\n",
        "unique_months = df['arrival_date_month'].unique()\n",
        "explode_list = [0.8 if month in ['August', 'December'] else 0 for month in unique_months]\n",
        "\n",
        "plot_pie_chart_from_column(df, 'arrival_date_month', 'Month-Wise Booking', explode=explode_list)\n"
      ],
      "metadata": {
        "id": "5PXb1Qqu1kni"
      },
      "execution_count": null,
      "outputs": []
    },
    {
      "cell_type": "markdown",
      "source": [
        "##### 1. Why did you pick the specific chart?"
      ],
      "metadata": {
        "id": "bbFf2-_FphqN"
      }
    },
    {
      "cell_type": "markdown",
      "source": [
        "Answer Here."
      ],
      "metadata": {
        "id": "loh7H2nzphqN"
      }
    },
    {
      "cell_type": "markdown",
      "source": [
        "The pie chart was chosen to visually represent the proportion of bookings across different months, providing a clear view of how bookings are distributed throughout the year. It highlights specific months with significant booking volumes, making it easier to identify seasonal trends and focus areas."
      ],
      "metadata": {
        "id": "5zZyCAqV2GEZ"
      }
    },
    {
      "cell_type": "markdown",
      "source": [
        "##### 2. What is/are the insight(s) found from the chart?"
      ],
      "metadata": {
        "id": "_ouA3fa0phqN"
      }
    },
    {
      "cell_type": "markdown",
      "source": [
        "Answer Here"
      ],
      "metadata": {
        "id": "VECbqPI7phqN"
      }
    },
    {
      "cell_type": "markdown",
      "source": [
        "The pie chart reveals the distribution of bookings across different months. Insights include identifying which months have the highest and lowest booking volumes. Highlighting specific months, like August and December, can show seasonal trends or peak booking periods."
      ],
      "metadata": {
        "id": "cL1SojxO2P2v"
      }
    },
    {
      "cell_type": "markdown",
      "source": [
        "##### 3. Will the gained insights help creating a positive business impact?\n",
        "Are there any insights that lead to negative growth? Justify with specific reason."
      ],
      "metadata": {
        "id": "Seke61FWphqN"
      }
    },
    {
      "cell_type": "markdown",
      "source": [
        "Answer Here"
      ],
      "metadata": {
        "id": "DW4_bGpfphqN"
      }
    },
    {
      "cell_type": "markdown",
      "source": [
        "#### Chart - 7"
      ],
      "metadata": {
        "id": "PIIx-8_IphqN"
      }
    },
    {
      "cell_type": "code",
      "source": [
        "# Chart - 7 visualization code\n",
        "print(df.columns)\n",
        "import matplotlib.pyplot as plt\n",
        "import seaborn as sns\n",
        "\n",
        "def plot_pie_chart_from_column(df, column_name, title, explode=None):\n",
        "    # Compute the distribution of the values in the specified column\n",
        "    value_counts = df[column_name].value_counts()\n",
        "\n",
        "    # Define colors for the pie chart\n",
        "    colors = sns.color_palette('pastel')[0:len(value_counts)]\n",
        "\n",
        "    # If explode is None, create a default explode list with no slices exploded\n",
        "    if explode is None:\n",
        "        explode = [0] * len(value_counts)\n",
        "\n",
        "    # Create the pie chart\n",
        "    plt.figure(figsize=(10, 8))\n",
        "    plt.pie(value_counts, labels=value_counts.index, autopct='%1.1f%%', explode=explode, colors=colors)\n",
        "    plt.title(title)\n",
        "    plt.show()\n",
        "\n",
        "# Define the explosion for highlighting specific slices\n",
        "exp3 = [0, 0.4]  # Highlight the second slice (adjust as needed)\n",
        "\n",
        "# Use the correct column name\n",
        "correct_column_name = 'is_canceled'  # Update this based on actual column name\n",
        "plot_pie_chart_from_column(df, correct_column_name, 'Guest Repeating Status', explode=exp3)\n"
      ],
      "metadata": {
        "id": "lqAIGUfyphqO"
      },
      "execution_count": null,
      "outputs": []
    },
    {
      "cell_type": "markdown",
      "source": [
        "##### 1. Why did you pick the specific chart?"
      ],
      "metadata": {
        "id": "t27r6nlMphqO"
      }
    },
    {
      "cell_type": "markdown",
      "source": [
        "Answer Here."
      ],
      "metadata": {
        "id": "iv6ro40sphqO"
      }
    },
    {
      "cell_type": "markdown",
      "source": [
        "The pie chart was chosen to visually represent the proportion of bookings across different months. It effectively highlights how each month contributes to the total booking volume, making it easier to identify seasonal patterns and trends in booking behavior."
      ],
      "metadata": {
        "id": "4DSAhT5-4Cci"
      }
    },
    {
      "cell_type": "markdown",
      "source": [
        "##### 2. What is/are the insight(s) found from the chart?"
      ],
      "metadata": {
        "id": "r2jJGEOYphqO"
      }
    },
    {
      "cell_type": "markdown",
      "source": [
        "Answer Here"
      ],
      "metadata": {
        "id": "Po6ZPi4hphqO"
      }
    },
    {
      "cell_type": "markdown",
      "source": [
        "The pie chart reveals the distribution of bookings across different months. It highlights which months have higher or lower booking volumes, helping to identify peak and off-peak periods. This insight can inform strategic decisions for marketing and resource allocation based on seasonal demand patterns."
      ],
      "metadata": {
        "id": "yKDNLbb94MQR"
      }
    },
    {
      "cell_type": "markdown",
      "source": [
        "##### 3. Will the gained insights help creating a positive business impact?\n",
        "Are there any insights that lead to negative growth? Justify with specific reason."
      ],
      "metadata": {
        "id": "b0JNsNcRphqO"
      }
    },
    {
      "cell_type": "markdown",
      "source": [
        "Answer Here"
      ],
      "metadata": {
        "id": "xvSq8iUTphqO"
      }
    },
    {
      "cell_type": "markdown",
      "source": [
        " if the pie chart shows that certain months have very low or zero bookings, it could indicate periods of weak demand or ineffective marketing strategies. Such low booking periods can result in missed revenue opportunities and operational inefficiencies, leading to negative growth.\n",
        "\n",
        "\n",
        "\n",
        "\n",
        "\n"
      ],
      "metadata": {
        "id": "-2NArmAH4X0B"
      }
    },
    {
      "cell_type": "markdown",
      "source": [
        "#### Chart - 8"
      ],
      "metadata": {
        "id": "BZR9WyysphqO"
      }
    },
    {
      "cell_type": "code",
      "source": [
        "# Chart - 8 visualization code\n"
      ],
      "metadata": {
        "id": "TdPTWpAVphqO"
      },
      "execution_count": null,
      "outputs": []
    },
    {
      "cell_type": "code",
      "source": [
        "import matplotlib.pyplot as plt\n",
        "import seaborn as sns\n",
        "\n",
        "# Example DataFrame creation (replace with your actual data)\n",
        "data = {\n",
        "    'hotel': ['Resort Hotel', 'City Hotel', 'Resort Hotel', 'City Hotel'],\n",
        "    'adr': [120, 150, 130, 140]\n",
        "}\n",
        "df = pd.DataFrame(data)\n",
        "\n",
        "# Create the bar plot for the average daily rate by hotel type\n",
        "plt.figure(figsize=(18, 10))\n",
        "sns.barplot(x='hotel', y='adr', data=df, ci=None)\n",
        "\n",
        "# Add title and labels\n",
        "plt.title('Average Daily Rate by Hotel Type', fontsize=25)\n",
        "plt.xlabel('Hotel Type', fontsize=18)\n",
        "plt.ylabel('Average Daily Rate', fontsize=20)\n",
        "\n",
        "# Rotate x-axis labels for better readability\n",
        "plt.xticks(rotation=45)\n",
        "\n",
        "# Show the plot\n",
        "plt.show()\n",
        "\n"
      ],
      "metadata": {
        "id": "2m75mBLk4qwe",
        "collapsed": true
      },
      "execution_count": null,
      "outputs": []
    },
    {
      "cell_type": "markdown",
      "source": [
        "##### 1. Why did you pick the specific chart?"
      ],
      "metadata": {
        "id": "jj7wYXLtphqO"
      }
    },
    {
      "cell_type": "markdown",
      "source": [
        "Answer Here."
      ],
      "metadata": {
        "id": "Ob8u6rCTphqO"
      }
    },
    {
      "cell_type": "markdown",
      "source": [
        "Labels and Titles: Bar charts allow for clear labeling and titling. This is important for making the chart informative and easily understandable. You can add titles, axis labels, and rotate x-axis labels to ensure that the information is presented clearly."
      ],
      "metadata": {
        "id": "_ZoMHyxHGw9f"
      }
    },
    {
      "cell_type": "markdown",
      "source": [
        "##### 2. What is/are the insight(s) found from the chart?"
      ],
      "metadata": {
        "id": "eZrbJ2SmphqO"
      }
    },
    {
      "cell_type": "markdown",
      "source": [
        "Answer Here"
      ],
      "metadata": {
        "id": "mZtgC_hjphqO"
      }
    },
    {
      "cell_type": "markdown",
      "source": [
        "Rotation of X-Axis Labels: With longer hotel names, rotating the x-axis labels ensures that the text remains readable and does not overlap, which can be an issue in other types of charts.\n",
        "Summary"
      ],
      "metadata": {
        "id": "ntTq6JnmG12t"
      }
    },
    {
      "cell_type": "markdown",
      "source": [
        "##### 3. Will the gained insights help creating a positive business impact?\n",
        "Are there any insights that lead to negative growth? Justify with specific reason."
      ],
      "metadata": {
        "id": "rFu4xreNphqO"
      }
    },
    {
      "cell_type": "markdown",
      "source": [
        "Answer Here"
      ],
      "metadata": {
        "id": "ey_0qi68phqO"
      }
    },
    {
      "cell_type": "markdown",
      "source": [
        "The length of each bar represents the ADR for each hotel type, which helps in quickly understanding which hotel type has the highest or lowest rates.\n"
      ],
      "metadata": {
        "id": "TOBpjQy2HATn"
      }
    },
    {
      "cell_type": "markdown",
      "source": [
        "#### Chart - 9"
      ],
      "metadata": {
        "id": "YJ55k-q6phqO"
      }
    },
    {
      "cell_type": "code",
      "source": [
        "# Chart - 9 visualization code\n",
        "import matplotlib.pyplot as plt\n",
        "import seaborn as sns\n",
        "import pandas as pd\n",
        "\n",
        "# Sample data for demonstration (replace with your actual data)\n",
        "data = {\n",
        "    'country': ['PRT', 'GBR', 'FRA', 'ESP', 'DEU', 'ITA', 'IRL', 'BRA', 'BEL', 'NLD'],\n",
        "    'total_guest': [1200, 1100, 1000, 950, 900, 850, 800, 750, 700, 650]\n",
        "}\n",
        "df = pd.DataFrame(data)\n",
        "\n",
        "# Prepare the data for plotting\n",
        "guest_country_wise = df[['country', 'total_guest']]\n",
        "guest_country_wise_df = guest_country_wise.groupby('country')['total_guest'].sum()\n",
        "guest_country_wise_df.sort_values(ascending=False, inplace=True)\n",
        "top_10_country_by_guest = guest_country_wise_df.head(10)\n",
        "\n",
        "# Country names mapping\n",
        "country_names = {\n",
        "    'PRT': 'Portugal', 'GBR': 'Great Britain & Northern Ireland', 'FRA': 'France',\n",
        "    'ESP': 'Spain', 'DEU': 'Germany', 'ITA': 'Italy', 'IRL': 'Ireland',\n",
        "    'BRA': 'Brazil', 'BEL': 'Belgium', 'NLD': 'Netherlands'\n",
        "}\n",
        "\n",
        "# Map country codes to full country names\n",
        "top_10_country_by_guest.index = top_10_country_by_guest.index.map(country_names)\n",
        "\n",
        "# Create the bar plot\n",
        "plt.figure(figsize=(12, 6))\n",
        "ax = sns.barplot(x=top_10_country_by_guest.index, y=top_10_country_by_guest.values, palette='viridis')\n",
        "\n",
        "# Set title and labels\n",
        "ax.set(title='Top 10 Countries by Number of Guests', xlabel='Country', ylabel='Total Number of Guests')\n",
        "\n",
        "# Rotate x-axis labels for better readability\n",
        "plt.xticks(rotation=45, ha='right')\n",
        "\n",
        "# Show the plot\n",
        "plt.show()\n",
        "\n"
      ],
      "metadata": {
        "id": "B2aS4O1ophqO"
      },
      "execution_count": null,
      "outputs": []
    },
    {
      "cell_type": "markdown",
      "source": [
        "##### 1. Why did you pick the specific chart?"
      ],
      "metadata": {
        "id": "gCFgpxoyphqP"
      }
    },
    {
      "cell_type": "markdown",
      "source": [
        "Answer Here."
      ],
      "metadata": {
        "id": "TVxDimi2phqP"
      }
    },
    {
      "cell_type": "markdown",
      "source": [
        " A bar chart effectively highlights the top 10 countries by displaying the most significant data points prominently. It simplifies the analysis by focusing on the top contributors and makes trends or patterns more apparent."
      ],
      "metadata": {
        "id": "ZmAWm4WOF2LV"
      }
    },
    {
      "cell_type": "markdown",
      "source": [
        "##### 2. What is/are the insight(s) found from the chart?"
      ],
      "metadata": {
        "id": "OVtJsKN_phqQ"
      }
    },
    {
      "cell_type": "markdown",
      "source": [
        "Answer Here"
      ],
      "metadata": {
        "id": "ngGi97qjphqQ"
      }
    },
    {
      "cell_type": "markdown",
      "source": [
        "If Brazil or Belgium is at the lower end, it might indicate lower market penetration or less brand recognition in these areas. Investigating and addressing the reasons behind this could help improve guest numbers"
      ],
      "metadata": {
        "id": "sLRthCPSF_Ue"
      }
    },
    {
      "cell_type": "markdown",
      "source": [
        "##### 3. Will the gained insights help creating a positive business impact?\n",
        "Are there any insights that lead to negative growth? Justify with specific reason."
      ],
      "metadata": {
        "id": "lssrdh5qphqQ"
      }
    },
    {
      "cell_type": "markdown",
      "source": [
        "Answer Here"
      ],
      "metadata": {
        "id": "tBpY5ekJphqQ"
      }
    },
    {
      "cell_type": "markdown",
      "source": [
        "for instance, Portugal and Great Britain have the highest counts, this suggests strong market presence in these countries. Special promotions or services could be tailored for these regions."
      ],
      "metadata": {
        "id": "EPFvWAjQGHVv"
      }
    },
    {
      "cell_type": "markdown",
      "source": [
        "#### Chart - 10"
      ],
      "metadata": {
        "id": "U2RJ9gkRphqQ"
      }
    },
    {
      "cell_type": "code",
      "source": [
        "# Chart - 10 visualization code\n",
        "import matplotlib.pyplot as plt\n",
        "import seaborn as sns\n",
        "\n",
        "# Create the column chart for the total number of special requests by hotel type\n",
        "plt.figure(figsize=(18, 10))\n",
        "sns.barplot(x='hotel', y='total_of_special_requests', data=data, ci=None, palette='viridis')\n",
        "\n",
        "# Add title and labels\n",
        "plt.title('Total Number of Special Requests by Hotel Type', fontsize=25)\n",
        "plt.xlabel('Hotel Type', fontsize=18)\n",
        "plt.ylabel('Total Number of Special Requests', fontsize=20)\n",
        "\n",
        "# Show the plot\n",
        "plt.xticks(rotation=45)  # Rotate x-axis labels if needed for readability\n",
        "plt.show()\n",
        "\n"
      ],
      "metadata": {
        "id": "GM7a4YP4phqQ"
      },
      "execution_count": null,
      "outputs": []
    },
    {
      "cell_type": "markdown",
      "source": [
        "##### 1. Why did you pick the specific chart?"
      ],
      "metadata": {
        "id": "1M8mcRywphqQ"
      }
    },
    {
      "cell_type": "markdown",
      "source": [
        "Answer Here."
      ],
      "metadata": {
        "id": "8agQvks0phqQ"
      }
    },
    {
      "cell_type": "markdown",
      "source": [
        "The height of the bars helps in quickly identifying which hotel type receives the most or fewest special requests. This can highlight trends, such as whether certain types of hotels tend to have more special requests compared to others."
      ],
      "metadata": {
        "id": "JKKPD0MAC9iP"
      }
    },
    {
      "cell_type": "markdown",
      "source": [
        "##### 2. What is/are the insight(s) found from the chart?"
      ],
      "metadata": {
        "id": "tgIPom80phqQ"
      }
    },
    {
      "cell_type": "markdown",
      "source": [
        "Answer Here"
      ],
      "metadata": {
        "id": "Qp13pnNzphqQ"
      }
    },
    {
      "cell_type": "markdown",
      "source": [
        " If certain types of hotels receive significantly more special requests, it might indicate that guests at these hotels have specific needs or preferences. Understanding these needs can help in tailoring services to better meet guest expectation"
      ],
      "metadata": {
        "id": "CceMYIRVDNqj"
      }
    },
    {
      "cell_type": "markdown",
      "source": [
        "##### 3. Will the gained insights help creating a positive business impact?\n",
        "Are there any insights that lead to negative growth? Justify with specific reason."
      ],
      "metadata": {
        "id": "JMzcOPDDphqR"
      }
    },
    {
      "cell_type": "markdown",
      "source": [
        "Answer Here"
      ],
      "metadata": {
        "id": "R4Ka1PC2phqR"
      }
    },
    {
      "cell_type": "markdown",
      "source": [
        "Positive Impacts:\n",
        "\n",
        "Enhanced customer satisfaction by tailoring services to meet guest needs.\n",
        "Efficient resource allocation by identifying which hotels need more support.\n",
        "Targeted operational improvements and strategic planning based on request patterns.\n",
        "Learning from best practices at high-request hotels to improve service."
      ],
      "metadata": {
        "id": "woF9d9mTDa2h"
      }
    },
    {
      "cell_type": "markdown",
      "source": [
        "#### Chart - 11"
      ],
      "metadata": {
        "id": "x-EpHcCOp1ci"
      }
    },
    {
      "cell_type": "code",
      "source": [
        "import pandas as pd\n",
        "import matplotlib.pyplot as plt\n",
        "import seaborn as sns\n",
        "\n",
        "# Example DataFrame creation (replace this with your actual data)\n",
        "data = pd.DataFrame({\n",
        "    'A': [1, 2, 3, 4, 5],\n",
        "    'B': [5, 4, 3, 2, 1],\n",
        "    'C': [2, 3, 4, 5, 6],\n",
        "    'D': [6, 5, 4, 3, 2]\n",
        "})\n",
        "\n",
        "# Compute the correlation matrix\n",
        "corr = data.corr()\n",
        "\n",
        "# Create the heatmap\n",
        "plt.figure(figsize=(18, 14))\n",
        "sns.heatmap(corr, annot=True, cmap='coolwarm', fmt='.2f', linewidths=0.5, vmin=-1, vmax=1)\n",
        "\n",
        "# Add title\n",
        "plt.title('Correlation Heatmap of Numerical Features', fontsize=25)\n",
        "\n",
        "# Show the plot\n",
        "plt.show()\n",
        "\n"
      ],
      "metadata": {
        "id": "mAQTIvtqp1cj"
      },
      "execution_count": null,
      "outputs": []
    },
    {
      "cell_type": "markdown",
      "source": [
        "##### 1. Why did you pick the specific chart?"
      ],
      "metadata": {
        "id": "X_VqEhTip1ck"
      }
    },
    {
      "cell_type": "markdown",
      "source": [
        "Answer Here."
      ],
      "metadata": {
        "id": "-vsMzt_np1ck"
      }
    },
    {
      "cell_type": "markdown",
      "source": [
        "The correlation heatmap was chosen because it effectively visualizes the relationships between multiple numerical variables in a dataset. It provides a clear graphical representation of how variables are correlated, which can help in understanding patterns, identifying strong relationships, and spotting potential multicollinearity issues. The use of color gradients and annotations makes it easy to interpret the strength and direction of correlations."
      ],
      "metadata": {
        "id": "6nMTWHe01n58"
      }
    },
    {
      "cell_type": "markdown",
      "source": [
        "##### 2. What is/are the insight(s) found from the chart?"
      ],
      "metadata": {
        "id": "8zGJKyg5p1ck"
      }
    },
    {
      "cell_type": "markdown",
      "source": [
        "Answer Here"
      ],
      "metadata": {
        "id": "ZYdMsrqVp1ck"
      }
    },
    {
      "cell_type": "markdown",
      "source": [
        "The heatmap shows how strongly each pair of variables is related. Strong positive correlations (close to +1) indicate that as one variable increases, the other also tends to increase. Strong negative correlations (close to -1) indicate that as one variable increases, the other tends to decrease. A correlation near 0 suggests little to no linear relationship.\n",
        "\n"
      ],
      "metadata": {
        "id": "gW3_cgx11zga"
      }
    },
    {
      "cell_type": "markdown",
      "source": [
        "##### 3. Will the gained insights help creating a positive business impact?\n",
        "Are there any insights that lead to negative growth? Justify with specific reason."
      ],
      "metadata": {
        "id": "PVzmfK_Ep1ck"
      }
    },
    {
      "cell_type": "markdown",
      "source": [
        "Answer Here"
      ],
      "metadata": {
        "id": "druuKYZpp1ck"
      }
    },
    {
      "cell_type": "markdown",
      "source": [
        ": Understanding how different factors interact can guide strategic planning. For instance, if certain financial metrics are strongly correlated with business growth, these metrics can be used to set targets and monitor progress."
      ],
      "metadata": {
        "id": "vI_Aq1VZ1_BM"
      }
    },
    {
      "cell_type": "markdown",
      "source": [
        "#### Chart - 12"
      ],
      "metadata": {
        "id": "n3dbpmDWp1ck"
      }
    },
    {
      "cell_type": "code",
      "source": [
        "# Chart - 12 visualization code\n",
        "\n",
        "import matplotlib.pyplot as plt\n",
        "\n",
        "# Define the data\n",
        "df = pd.DataFrame({\n",
        "    'Hotel Name': ['Hotel A', 'Hotel B', 'Hotel C'],\n",
        "    'Average ADR': [120, 150, 130]\n",
        "})\n",
        "\n",
        "average_adr = df.set_index('Hotel Name')['Average ADR']\n",
        "\n",
        "# Plot the data\n",
        "plt.figure(figsize=(10, 8))\n",
        "average_adr.plot(kind='barh', color='c')  # Adjust color as needed\n",
        "plt.xlabel(\"Average ADR\")\n",
        "plt.ylabel(\"Hotel Name\")\n",
        "plt.title(\"Average ADR of Hotels\")\n",
        "plt.show()\n"
      ],
      "metadata": {
        "id": "bwevp1tKp1ck"
      },
      "execution_count": null,
      "outputs": []
    },
    {
      "cell_type": "markdown",
      "source": [
        "##### 1. Why did you pick the specific chart?"
      ],
      "metadata": {
        "id": "ylSl6qgtp1ck"
      }
    },
    {
      "cell_type": "markdown",
      "source": [
        "Answer Here."
      ],
      "metadata": {
        "id": "m2xqNkiQp1ck"
      }
    },
    {
      "cell_type": "markdown",
      "source": [
        ": A horizontal bar chart is effective for comparing categorical data, such as different hotels, especially when the category names are long. It makes it easy to see differences in average ADR between hotels."
      ],
      "metadata": {
        "id": "3kcQ_SPd3AM2"
      }
    },
    {
      "cell_type": "markdown",
      "source": [
        "##### 2. What is/are the insight(s) found from the chart?"
      ],
      "metadata": {
        "id": "ZWILFDl5p1ck"
      }
    },
    {
      "cell_type": "markdown",
      "source": [
        "Answer Here"
      ],
      "metadata": {
        "id": "x-lUsV2mp1ck"
      }
    },
    {
      "cell_type": "markdown",
      "source": [
        " Understand the segmentation of the market based on ADR. This can help in targeting specific customer segments and tailoring services or promotions to different price points. the chart provides a clear view of how different hotels’ pricing compares, which is essential for strategic decision-making related to pricing, market positioning, and competitive analysis."
      ],
      "metadata": {
        "id": "uE7p6qme67kr"
      }
    },
    {
      "cell_type": "markdown",
      "source": [
        "##### 3. Will the gained insights help creating a positive business impact?\n",
        "Are there any insights that lead to negative growth? Justify with specific reason."
      ],
      "metadata": {
        "id": "M7G43BXep1ck"
      }
    },
    {
      "cell_type": "markdown",
      "source": [
        "Answer Here"
      ],
      "metadata": {
        "id": "5wwDJXsLp1cl"
      }
    },
    {
      "cell_type": "markdown",
      "source": [
        "the chart shows that most hotels in the area have similar or lower ADR but your hotel has a much higher ADR, it might indicate market saturation. If the market cannot support higher prices due to high competition or economic conditions, maintaining a high ADR could lead to decreased bookings and negative growth."
      ],
      "metadata": {
        "id": "uBWD3Y4e7Rmj"
      }
    },
    {
      "cell_type": "markdown",
      "source": [
        "#### Chart - 13"
      ],
      "metadata": {
        "id": "Ag9LCva-p1cl"
      }
    },
    {
      "cell_type": "code",
      "source": [
        "# Chart - 13 visualization code\n",
        "import pandas as pd\n",
        "import matplotlib.pyplot as plt\n",
        "\n",
        "# Example DataFrame creation (replace with your actual data)\n",
        "data = {\n",
        "    'hotel': ['Hotel A', 'Hotel A', 'Hotel B', 'Hotel B', 'Hotel A', 'Hotel B'],\n",
        "    'meal': ['BB', 'HB', 'FB', 'BB', 'FB', 'HB']\n",
        "}\n",
        "\n",
        "df = pd.DataFrame(data)\n",
        "\n",
        "# Group by 'hotel' and 'meal' and count occurrences\n",
        "hotel_wise_meal = df.groupby(['hotel', 'meal'])['meal'].count().unstack()\n",
        "\n",
        "# Plot the result\n",
        "plt.figure(figsize=(12, 10), dpi=100)\n",
        "hotel_wise_meal.plot(kind='bar', figsize=(20, 12))\n",
        "plt.title('Count of Meal Types per Hotel')\n",
        "plt.xlabel('Hotel')\n",
        "plt.ylabel('Count of Meals')\n",
        "plt.legend(title='Meal Type')\n",
        "plt.show()\n",
        "\n",
        "\n",
        "\n",
        "\n"
      ],
      "metadata": {
        "id": "EUfxeq9-p1cl"
      },
      "execution_count": null,
      "outputs": []
    },
    {
      "cell_type": "markdown",
      "source": [
        "##### 1. Why did you pick the specific chart?"
      ],
      "metadata": {
        "id": "E6MkPsBcp1cl"
      }
    },
    {
      "cell_type": "markdown",
      "source": [
        "Answer Here."
      ],
      "metadata": {
        "id": "V22bRsFWp1cl"
      }
    },
    {
      "cell_type": "markdown",
      "source": [
        "Categorical Data Visualization: A bar chart is ideal for comparing categorical data, such as meal types across different hotels. It allows you to visualize the frequency or count of each category, making it easy to compare values side by side."
      ],
      "metadata": {
        "id": "unSzlnuYAeb1"
      }
    },
    {
      "cell_type": "markdown",
      "source": [
        "##### 2. What is/are the insight(s) found from the chart?"
      ],
      "metadata": {
        "id": "2cELzS2fp1cl"
      }
    },
    {
      "cell_type": "markdown",
      "source": [
        "Answer Here"
      ],
      "metadata": {
        "id": "ozQPc2_Ip1cl"
      }
    },
    {
      "cell_type": "markdown",
      "source": [
        "The bar chart provides clear insights into meal preferences at different hotels, revealing which meal types are favored by guests and how preferences vary between hotels. These insights help hotels tailor their offerings, identify trends, and make strategic decisions to enhance guest satisfaction and optimize meal package offerings."
      ],
      "metadata": {
        "id": "GuIzOOxBBNRx"
      }
    },
    {
      "cell_type": "markdown",
      "source": [
        "##### 3. Will the gained insights help creating a positive business impact?\n",
        "Are there any insights that lead to negative growth? Justify with specific reason."
      ],
      "metadata": {
        "id": "3MPXvC8up1cl"
      }
    },
    {
      "cell_type": "markdown",
      "source": [
        "Answer Here"
      ],
      "metadata": {
        "id": "GL8l1tdLp1cl"
      }
    },
    {
      "cell_type": "markdown",
      "source": [
        "Short-Term Trends: Relying solely on current data might lead to decisions based on short-term trends. For example, if a particular meal type shows a temporary spike in popularity, investing heavily in that option without understanding long-term trends could lead to wasted resources if the trend reverses"
      ],
      "metadata": {
        "id": "YLjUySJZBbZ8"
      }
    },
    {
      "cell_type": "markdown",
      "source": [
        "#### Chart - 14 - Correlation Heatmap"
      ],
      "metadata": {
        "id": "NC_X3p0fY2L0"
      }
    },
    {
      "cell_type": "code",
      "source": [
        "# Correlation Heatmap visualization code\n",
        "import pandas as pd\n",
        "import matplotlib.pyplot as plt\n",
        "import seaborn as sns\n",
        "\n",
        "# Example DataFrame creation\n",
        "data = {\n",
        "    'Hotel Name': ['Hotel A', 'Hotel B', 'Hotel C'],\n",
        "    'Average ADR': [120, 150, 130],\n",
        "    'Occupancy Rate': [0.75, 0.60, 0.65],\n",
        "    'Room Nights': [1000, 800, 900]\n",
        "}\n",
        "\n",
        "df = pd.DataFrame(data)\n",
        "\n",
        "# Filter out non-numeric columns\n",
        "numeric_df = df.select_dtypes(include=[float, int])\n",
        "\n",
        "# Compute and plot the correlation matrix\n",
        "plt.figure(figsize=(18, 10))\n",
        "sns.heatmap(numeric_df.corr(), annot=True, cmap='Blues', fmt='.2f', linewidths=0.5, vmin=-1, vmax=1)\n",
        "plt.title('Correlation Heatmap of Numerical Features', fontsize=20)\n",
        "plt.show()"
      ],
      "metadata": {
        "id": "xyC9zolEZNRQ"
      },
      "execution_count": null,
      "outputs": []
    },
    {
      "cell_type": "markdown",
      "source": [
        "##### 1. Why did you pick the specific chart?"
      ],
      "metadata": {
        "id": "UV0SzAkaZNRQ"
      }
    },
    {
      "cell_type": "markdown",
      "source": [
        "Answer Here."
      ],
      "metadata": {
        "id": "DVPuT8LYZNRQ"
      }
    },
    {
      "cell_type": "markdown",
      "source": [
        "The heatmap allows for customization with different color maps and annotations, enhancing clarity and making it easier to highlight specific aspects of the data. This customization can help tailor the visualization to specific analytical goals or audience preferences"
      ],
      "metadata": {
        "id": "otGdQvIz-bnz"
      }
    },
    {
      "cell_type": "markdown",
      "source": [
        "##### 2. What is/are the insight(s) found from the chart?"
      ],
      "metadata": {
        "id": "YPEH6qLeZNRQ"
      }
    },
    {
      "cell_type": "markdown",
      "source": [
        "Answer Here"
      ],
      "metadata": {
        "id": "bfSqtnDqZNRR"
      }
    },
    {
      "cell_type": "markdown",
      "source": [
        "A high positive correlation between Average ADR and Occupancy Rate, it might suggest that increasing the daily rate could lead to higher occupancy, possibly due to the perceived value or luxury of the hotel. A strong negative correlation between Room Nights and Occupancy Rate, it might indicate that hotels with fewer room nights are experiencing higher occupancy, possibly suggesting efficient space usage or high demand."
      ],
      "metadata": {
        "id": "kmfcFXPO-naw"
      }
    },
    {
      "cell_type": "markdown",
      "source": [
        "#### Chart - 15 - Pair Plot"
      ],
      "metadata": {
        "id": "q29F0dvdveiT"
      }
    },
    {
      "cell_type": "code",
      "source": [
        "import pandas as pd\n",
        "import matplotlib.pyplot as plt\n",
        "import seaborn as sns\n",
        "\n",
        "# Sample DataFrame creation (replace with your actual data)\n",
        "data = {\n",
        "    'stays_in_week_nights': [3, 2, 4, 1, 5],\n",
        "    'stays_in_weekend_nights': [1, 2, 2, 1, 1],\n",
        "    'total_stay_in_nights': [4, 4, 6, 2, 6],\n",
        "    'adults': [2, 1, 2, 1, 2],\n",
        "    'children': [1, 0, 1, 0, 2],\n",
        "    'revenue': [200, 150, 300, 100, 350]\n",
        "}\n",
        "\n",
        "df = pd.DataFrame(data)\n",
        "\n",
        "# List of columns to compare\n",
        "columns_to_compare = ['stays_in_week_nights', 'stays_in_weekend_nights', 'total_stay_in_nights', 'adults', 'children', 'revenue']\n",
        "\n",
        "# Ensure all columns are present in the DataFrame\n",
        "missing_cols = [col for col in columns_to_compare if col not in df.columns]\n",
        "if missing_cols:\n",
        "    raise ValueError(f\"Missing columns in DataFrame: {missing_cols}\")\n",
        "\n",
        "# Ensure all columns are numeric\n",
        "non_numeric_cols = [col for col in columns_to_compare if not pd.api.types.is_numeric_dtype(df[col])]\n",
        "if non_numeric_cols:\n",
        "    raise ValueError(f\"Non-numeric columns in DataFrame: {non_numeric_cols}\")\n",
        "\n",
        "# Create the pairplot\n",
        "plt.figure(figsize=(8, 8))\n",
        "sns.pairplot(data=df, vars=columns_to_compare, markers='o')\n",
        "plt.show()\n"
      ],
      "metadata": {
        "id": "o58-TEIhveiU"
      },
      "execution_count": null,
      "outputs": []
    },
    {
      "cell_type": "markdown",
      "source": [
        "##### 1. Why did you pick the specific chart?"
      ],
      "metadata": {
        "id": "EXh0U9oCveiU"
      }
    },
    {
      "cell_type": "markdown",
      "source": [
        "Answer Here."
      ],
      "metadata": {
        "id": "eMmPjTByveiU"
      }
    },
    {
      "cell_type": "markdown",
      "source": [
        "Understanding Data Structure: During EDA, understanding the relationships between variables helps in formulating hypotheses, detecting data issues, and guiding further analysis.\n",
        "Feature Selection: It can help in identifying which variables are important and which might be redundant or irrelevant, guiding feature selection for modeling."
      ],
      "metadata": {
        "id": "pObxrwZ5_24H"
      }
    },
    {
      "cell_type": "markdown",
      "source": [
        "##### 2. What is/are the insight(s) found from the chart?"
      ],
      "metadata": {
        "id": "22aHeOlLveiV"
      }
    },
    {
      "cell_type": "markdown",
      "source": [
        "Answer Here"
      ],
      "metadata": {
        "id": "uPQ8RGwHveiV"
      }
    },
    {
      "cell_type": "markdown",
      "source": [
        " These plots show the distribution of each variable. They help you understand the spread, central tendency, and shape of the distribution for each variable."
      ],
      "metadata": {
        "id": "JZdwTyw6AB4l"
      }
    },
    {
      "cell_type": "markdown",
      "source": [
        "## **5. Solution to Business Objective**"
      ],
      "metadata": {
        "id": "JcMwzZxoAimU"
      }
    },
    {
      "cell_type": "markdown",
      "source": [
        "#### What do you suggest the client to achieve Business Objective ?\n",
        "Explain Briefly."
      ],
      "metadata": {
        "id": "8G2x9gOozGDZ"
      }
    },
    {
      "cell_type": "markdown",
      "source": [
        "Answer Here."
      ],
      "metadata": {
        "id": "pASKb0qOza21"
      }
    },
    {
      "cell_type": "markdown",
      "source": [
        "Following are the points to achieve Bussines Objectives\n",
        "\n",
        "1- For hotel bussiness to florish few things which we need to consider in high revenue generation,customer satisfaction and employes rentation.\n",
        "\n",
        "2- We are able to achieve the same by showing the months to client which are higher in revenue generation by pie chart distribution.\n",
        "\n",
        "3- Incrdasing the revenue achieved by bar chart distribution of which type of rooms are most reserved in which months.\n",
        "\n",
        "4- So for the clients who are well prepare in advance so that the minimum grievance would be faced by clients in long run and would help in further enhancement of their hospitalities.\n",
        "\n",
        "5- Outliers like higher the visitor then the adr has reduced drastically was shown in Scatter plot so in off sasons client engagedwith offices for bulk booking this will also help in extra revenue generation.\n",
        "\n",
        "6- We are able to show the trend of arrivals of visitor at client location through which client engaged visitors well advance for their entertainment and leisure activities.\n",
        "\n",
        "7- We are able to co relate the values showing the max and min percentage between them so that the percentage lying those numbers can be enhanced by various medium"
      ],
      "metadata": {
        "id": "25Q_p4p0H9Tq"
      }
    },
    {
      "cell_type": "markdown",
      "source": [
        "1- Conducting regular guest satisfaction surveys to identify areas for improvement in service quality, facilities, and amenities, thereby enhancing overall customer satisfaction and loyalty.\n",
        "\n",
        "2- Utilizing data analytics tools to analyze booking patterns and customer preferences, enabling personalized marketing campaigns and tailored offers to attract and retain guests.\n",
        "\n",
        "3- Implementing employee training and development programs to enhance skills, boost morale, and foster a positive work culture, leading to higher employee retention rates and improved guest experiences.\n",
        "\n",
        "4- Collaborating with local tourism boards, businesses, and attractions to offer exclusive packages and experiences, enriching guests' stay and driving additional revenue through partnerships.\n",
        "\n",
        "5- Investing in sustainable practices and eco-friendly initiatives to appeal to environmentally-conscious travelers, differentiate the hotel brand, and attract a growing segment of socially responsible consumers.\n",
        "\n",
        "6- Leveraging social media platforms and online review sites to actively engage with guests, respond to feedback, and build brand reputation, ultimately driving positive word-of-mouth referrals and increasing bookings.\n",
        "\n",
        "7- Implementing technology upgrades such as mobile check-in/out, keyless entry systems, and in-room automation to streamline operations, enhance convenience, and elevate the guest experience.\n",
        "\n",
        "8- Establishing a robust loyalty program with tiered benefits and rewards to incentivize repeat bookings, foster customer loyalty, and increase lifetime customer value."
      ],
      "metadata": {
        "id": "fOdYuOt3TZWg"
      }
    },
    {
      "cell_type": "markdown",
      "source": [
        "# **Conclusion**"
      ],
      "metadata": {
        "id": "gCX9965dhzqZ"
      }
    },
    {
      "cell_type": "markdown",
      "source": [
        "Following are the conclusions\n",
        "\n",
        "1- City hotel seems to be more preferred among travellers and it also generates more revenue & profit.\n",
        "\n",
        "2- Most numbers of bookings are made in month of july and august as compared to another month.\n",
        "\n",
        "3- Room type A is most preferred room as compare to other rooms.\n",
        "\n",
        "4- Most number of bookings are made fromm Portugal & Great Britain.\n",
        "\n",
        "5- Most of the guests stay 3-4 days in the hotel.\n",
        "\n",
        "6- City hotel guest retains more number of guests.\n",
        "\n",
        "7- Around one-fourth of the total bookings getting cancelled. More cancellation comes from City hotel.\n",
        "\n",
        "8- New guest tends to cancel bookings more than repeated customers.\n",
        "\n",
        "9- Waiting list customers does not affect on their cancel bookings\n",
        "\n",
        "10- Repeated guest maximum comes from corporate sector.\n",
        "\n",
        "11- The length of the stay decreases as ADR increses probably to reduce the cost."
      ],
      "metadata": {
        "id": "-mu2yIkYSQH0"
      }
    },
    {
      "cell_type": "markdown",
      "source": [
        "### ***Hurrah! You have successfully completed your EDA Capstone Project !!!***"
      ],
      "metadata": {
        "id": "gIfDvo9L0UH2"
      }
    }
  ]
}